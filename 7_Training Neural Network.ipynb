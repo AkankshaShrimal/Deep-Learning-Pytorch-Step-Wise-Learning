{
 "cells": [
  {
   "attachments": {},
   "cell_type": "markdown",
   "metadata": {},
   "source": [
    "## Training Neural Networks\n",
    "\n",
    "**loss function**\n",
    "<img src='https://user-images.githubusercontent.com/24764528/50548756-4ed98d80-0c78-11e9-8ce2-ba646fd7e21b.png' width='400px'></p>\n",
    "where $n$ is the number of training examples, $y_i$ are the true labels, and $\\hat{y}_i$ are the predicted labels.\n",
    "\n",
    "Minimize loss using gradient descent."
   ]
  },
  {
   "attachments": {},
   "cell_type": "markdown",
   "metadata": {},
   "source": [
    "## Backpropagation\n",
    "<img src='https://user-images.githubusercontent.com/24764528/40543407-d5014d00-6041-11e8-8c77-9524d8922995.gif' width='400px'></p>\n",
    "\n",
    "$$\n",
    "\\large \\frac{\\partial \\ell}{\\partial W_1} = \\frac{\\partial L_1}{\\partial W_1} \\frac{\\partial S}{\\partial L_1} \\frac{\\partial L_2}{\\partial S} \\frac{\\partial \\ell}{\\partial L_2}\n",
    "$$\n",
    "\n",
    "We update our weights using this gradient with some learning rate $\\alpha$.\n",
    "\n",
    "$$\n",
    "\\large W^\\prime_1 = W_1 - \\alpha \\frac{\\partial \\ell}{\\partial W_1}\n",
    "$$\n"
   ]
  },
  {
   "cell_type": "markdown",
   "metadata": {},
   "source": [
    "## Losses in PyTorch\n",
    " PyTorch provides losses such as the cross-entropy loss **(nn.CrossEntropyLoss)** assigned to **criterion**.\n",
    " \n",
    " **Note**\n",
    " \n",
    " we need to pass in the raw output of our network into the loss, not the output of the softmax function. This raw output is usually called the logits or scores. We use the logits because softmax gives you probabilities which will often be very close to zero or one but floating-point numbers can't accurately represent values near zero or one. It's usually best to avoid doing calculations with probabilities, typically we use log-probabilities."
   ]
  },
  {
   "cell_type": "code",
   "execution_count": 1,
   "metadata": {},
   "outputs": [],
   "source": [
    "import torch\n",
    "from torch import nn\n",
    "import torch.nn.functional as F\n",
    "from torchvision import datasets, transforms\n",
    "\n",
    "# Define a transform to normalize the data\n",
    "transform = transforms.Compose([transforms.ToTensor(),\n",
    "                                transforms.Normalize((0.5, 0.5, 0.5), (0.5, 0.5, 0.5)),\n",
    "                              ])\n",
    "# Download and load the training data\n",
    "trainset = datasets.MNIST('~/.pytorch/MNIST_data/', download=True, train=True, transform=transform)\n",
    "trainloader = torch.utils.data.DataLoader(trainset, batch_size=64, shuffle=True)"
   ]
  },
  {
   "cell_type": "code",
   "execution_count": 2,
   "metadata": {},
   "outputs": [
    {
     "name": "stdout",
     "output_type": "stream",
     "text": [
      "tensor(2.3596, grad_fn=<NllLossBackward>)\n"
     ]
    }
   ],
   "source": [
    "# Model using raw logits and nn.CrossEntropyLoss\n",
    "model = nn.Sequential(\n",
    "                        nn.Linear(784,128),\n",
    "                        nn.ReLU(),\n",
    "                        nn.Linear(128,64),\n",
    "                        nn.ReLU(),\n",
    "                        nn.Linear(64,10)\n",
    "                    )\n",
    "\n",
    "# Define Loss\n",
    "criterion = nn.CrossEntropyLoss()\n",
    "\n",
    "# Get your data\n",
    "images , labels = next(iter(trainloader))\n",
    "# Flatten images\n",
    "images = images.view(images.shape[0],-1)\n",
    "\n",
    "# Forward pass get your logits\n",
    "logits = model(images)\n",
    "\n",
    "# Calculate the loss with logits and labels\n",
    "loss = criterion(logits,labels)\n",
    "\n",
    "print(loss)"
   ]
  },
  {
   "cell_type": "markdown",
   "metadata": {},
   "source": [
    "### LogSoftmax Output \n",
    "it's more convenient to build the model with a **log-softmax** output using **nn.LogSoftmax** or **F.log_softmax** .Get the actual probabilities by taking the exponential torch.exp(output). \n",
    "With a log-softmax output, you want to use the **negative log likelihood loss, nn.NLLLoss**.\n",
    "\n",
    "Note that for nn.LogSoftmax and F.log_softmax you'll need to set the dim keyword argument appropriately. dim=0 calculates softmax across the rows, so each column sums to 1, while dim=1 calculates across the columns so each row sums to 1. Think about what you want the output to be and choose dim appropriately."
   ]
  },
  {
   "cell_type": "code",
   "execution_count": 3,
   "metadata": {},
   "outputs": [
    {
     "name": "stdout",
     "output_type": "stream",
     "text": [
      "tensor(2.2903, grad_fn=<NllLossBackward>)\n"
     ]
    }
   ],
   "source": [
    "# Model using nn.LogSOftmax with error function nn.NLLLoss\n",
    "model = nn.Sequential(\n",
    "                        nn.Linear(784,128),\n",
    "                        nn.ReLU(),\n",
    "                        nn.Linear(128,64),\n",
    "                        nn.ReLU(),\n",
    "                        nn.Linear(64,10),\n",
    "                        nn.LogSoftmax(dim =1)\n",
    "                    )\n",
    "\n",
    "# Define Loss\n",
    "criterion = nn.NLLLoss()\n",
    "\n",
    "# Get your data\n",
    "images , labels = next(iter(trainloader))\n",
    "# Flatten images\n",
    "images = images.view(images.shape[0],-1)\n",
    "\n",
    "# Forward pass get your logits\n",
    "log_probability = model(images)\n",
    "\n",
    "# Calculate the loss with logits and labels\n",
    "loss = criterion(log_probability,labels)\n",
    "\n",
    "print(loss)"
   ]
  },
  {
   "cell_type": "markdown",
   "metadata": {},
   "source": [
    "\n",
    "## Autograd\n",
    "\n",
    "- To perform Backpropagation\n",
    "- To automatically calculating the gradients of tensors\n",
    "- calculate the gradients of all our parameters with respect to the loss\n",
    "- Autograd works by keeping track of operations performed on tensors\n",
    "- To make sure PyTorch keeps track of operations on a tensor use **requires_grad = True on a tensor**\n",
    "- At any time do  **x.requires_grad_(True)**\n",
    "- **x.grad** tells value of gradient\n",
    "- **c.grad_fn** shows functin that generated this variable\n",
    "- you can turn on or off gradients altogether with **torch.set_grad_enabled(True|False)**.\n",
    "- You can turn off gradients for a block of code with the torch.no_grad()"
   ]
  },
  {
   "cell_type": "code",
   "execution_count": 4,
   "metadata": {},
   "outputs": [
    {
     "name": "stdout",
     "output_type": "stream",
     "text": [
      "x= tensor([[-1.0055, -0.4734],\n",
      "        [ 0.3397,  1.2363]], requires_grad=True)\n",
      "y= tensor([[1.0111, 0.2241],\n",
      "        [0.1154, 1.5285]], grad_fn=<PowBackward0>)\n",
      "<PowBackward0 object at 0x7f1418ab66a0>\n",
      "None\n",
      "tensor([[-0.5028, -0.2367],\n",
      "        [ 0.1699,  0.6182]])\n",
      "tensor([[-0.5028, -0.2367],\n",
      "        [ 0.1699,  0.6182]], grad_fn=<DivBackward0>)\n"
     ]
    }
   ],
   "source": [
    "# Autograd usage Example\n",
    "# Autograd track tensors for this set requires_grad = true\n",
    "x = torch.randn(2,2,requires_grad = True)\n",
    "y = x ** 2\n",
    "print(\"x=\", x)\n",
    "print(\"y=\", y)\n",
    "# grad_fn shows the function that generated this variable\n",
    "print(y.grad_fn)\n",
    "z = y.mean()\n",
    "\n",
    "# To show gradient \n",
    "print(x.grad)\n",
    "# To Calculate gradient \n",
    "z.backward()\n",
    "# Comparing output came and gradient output\n",
    "print(x.grad)\n",
    "print(x/2)\n"
   ]
  },
  {
   "attachments": {
    "image.png": {
     "image/png": "[encoded data removed]"
    }
   },
   "cell_type": "markdown",
   "metadata": {},
   "source": [
    "Gradient of x\n",
    "![image.png](attachment:image.png)"
   ]
  },
  {
   "cell_type": "markdown",
   "metadata": {},
   "source": [
    "\n",
    "## Loss and Autograd together\n",
    "\n",
    "- When we create a network with PyTorch, all of the parameters are initialized with requires_grad = True.\n",
    "\n",
    "- These gradients are used to update the weights with gradient descent."
   ]
  },
  {
   "cell_type": "code",
   "execution_count": 5,
   "metadata": {},
   "outputs": [
    {
     "name": "stdout",
     "output_type": "stream",
     "text": [
      "None\n",
      "tensor([[ 9.3826e-06,  9.3826e-06,  9.3826e-06,  ...,  9.3826e-06,\n",
      "          9.3826e-06,  9.3826e-06],\n",
      "        [ 5.9414e-05,  5.9414e-05,  5.9414e-05,  ...,  5.9414e-05,\n",
      "          5.9414e-05,  5.9414e-05],\n",
      "        [-2.9772e-04, -2.9772e-04, -2.9772e-04,  ..., -2.9772e-04,\n",
      "         -2.9772e-04, -2.9772e-04],\n",
      "        ...,\n",
      "        [ 1.1906e-04,  1.1906e-04,  1.1906e-04,  ...,  1.1906e-04,\n",
      "          1.1906e-04,  1.1906e-04],\n",
      "        [ 4.3542e-06,  4.3542e-06,  4.3542e-06,  ...,  4.3542e-06,\n",
      "          4.3542e-06,  4.3542e-06],\n",
      "        [ 2.4861e-04,  2.4861e-04,  2.4861e-04,  ...,  2.4861e-04,\n",
      "          2.4861e-04,  2.4861e-04]])\n"
     ]
    }
   ],
   "source": [
    "# Autograd with Loss to Calculate Gradients\n",
    "\n",
    "model = nn.Sequential(\n",
    "                        nn.Linear(784,128),\n",
    "                        nn.ReLU(),\n",
    "                        nn.Linear(128,64),\n",
    "                        nn.ReLU(),\n",
    "                        nn.Linear(64,10),\n",
    "                        nn.Softmax(dim=1)\n",
    "                        )\n",
    "\n",
    "criterion = nn.NLLLoss()\n",
    "\n",
    "# Get your data\n",
    "images , labels = next(iter(trainloader))\n",
    "# Flatten images\n",
    "images = images.view(images.shape[0],-1)\n",
    "\n",
    "loss_prob = model(images)\n",
    "loss = criterion(loss_prob, labels)\n",
    "\n",
    "#Checking gradient of first layer\n",
    "print(model[0].weight.grad)\n",
    "\n",
    "#Generating weights\n",
    "loss.backward()\n",
    "\n",
    "#Output of gradients of first layer\n",
    "print(model[0].weight.grad)\n",
    "                "
   ]
  },
  {
   "cell_type": "markdown",
   "metadata": {},
   "source": [
    "\n",
    "## Training the network\n",
    "- **optimizer** that we'll use to update the weights with the gradients. We get these from **PyTorch's optim** package.\n",
    "\n",
    "### The general process with PyTorch:\n",
    "\n",
    "- Make a **forward pass** through the network\n",
    "- Use the network **output** to calculate the loss\n",
    "- Perform a **backward pass** through the network with loss.backward() to calculate the gradients\n",
    "- Take a step with the optimizer to **update the weights**\n",
    "\n",
    "-**note**\n",
    "optimizer.zero_grad(). When you do multiple backwards passes with the same parameters, the gradients are accumulated. This means that you need to zero the gradients on each training pass or you'll retain gradients from previous training batches.\n"
   ]
  },
  {
   "cell_type": "code",
   "execution_count": 6,
   "metadata": {},
   "outputs": [],
   "source": [
    "# Pytorch Optim is used for updating weights \n",
    "from torch import optim\n",
    "\n",
    "# Optimizers require the parameters to optiize and learing rate , SGD means stochastic Gradeint DEscent\n",
    "optimizer = optim.SGD(model.parameters(), lr = 0.01)\n"
   ]
  },
  {
   "cell_type": "code",
   "execution_count": 7,
   "metadata": {},
   "outputs": [
    {
     "name": "stdout",
     "output_type": "stream",
     "text": [
      "Initial weights --- Parameter containing:\n",
      "tensor([[ 0.0063, -0.0339, -0.0045,  ...,  0.0325, -0.0283,  0.0308],\n",
      "        [-0.0283,  0.0074, -0.0045,  ...,  0.0283,  0.0225,  0.0079],\n",
      "        [ 0.0176, -0.0110,  0.0029,  ...,  0.0030,  0.0145, -0.0203],\n",
      "        ...,\n",
      "        [-0.0314, -0.0076, -0.0015,  ..., -0.0009, -0.0289, -0.0018],\n",
      "        [ 0.0331,  0.0221, -0.0091,  ..., -0.0302, -0.0179,  0.0240],\n",
      "        [-0.0171, -0.0100,  0.0104,  ...,  0.0086, -0.0341,  0.0174]],\n",
      "       requires_grad=True)\n",
      "Gradient -  tensor([[ 0.0000e+00,  0.0000e+00,  0.0000e+00,  ...,  0.0000e+00,\n",
      "          0.0000e+00,  0.0000e+00],\n",
      "        [-9.1316e-05, -9.1316e-05, -9.1316e-05,  ..., -9.1316e-05,\n",
      "         -9.1316e-05, -9.1316e-05],\n",
      "        [-9.7919e-05, -9.7919e-05, -9.7919e-05,  ..., -9.7919e-05,\n",
      "         -9.7919e-05, -9.7919e-05],\n",
      "        ...,\n",
      "        [ 1.0838e-04,  1.0838e-04,  1.0838e-04,  ...,  1.0838e-04,\n",
      "          1.0838e-04,  1.0838e-04],\n",
      "        [ 2.6717e-05,  2.6717e-05,  2.6717e-05,  ...,  2.6717e-05,\n",
      "          2.6717e-05,  2.6717e-05],\n",
      "        [-5.5697e-05, -5.5697e-05, -5.5697e-05,  ..., -5.5697e-05,\n",
      "         -5.5697e-05, -5.5697e-05]])\n"
     ]
    }
   ],
   "source": [
    "print('Initial weights ---' , model[0].weight)\n",
    "images , lables = next(iter(trainloader))\n",
    "images = images.view(images.shape[0],-1)\n",
    "\n",
    "# Clear the Gradients , because gradients are accumulated from previous model and never erased\n",
    "optimizer.zero_grad()\n",
    "\n",
    "# Forward Pass\n",
    "output = model.forward(images)\n",
    "\n",
    "# Loss calculation \n",
    "loss = criterion(output , labels)\n",
    "\n",
    "# Backward pass to calculate gradients\n",
    "loss.backward()\n",
    "\n",
    "print('Gradient - ', model[0].weight.grad)\n"
   ]
  },
  {
   "cell_type": "code",
   "execution_count": 8,
   "metadata": {},
   "outputs": [
    {
     "name": "stdout",
     "output_type": "stream",
     "text": [
      "updated weights -- Parameter containing:\n",
      "tensor([[ 0.0063, -0.0339, -0.0045,  ...,  0.0325, -0.0283,  0.0308],\n",
      "        [-0.0283,  0.0074, -0.0045,  ...,  0.0283,  0.0225,  0.0079],\n",
      "        [ 0.0176, -0.0110,  0.0029,  ...,  0.0030,  0.0145, -0.0203],\n",
      "        ...,\n",
      "        [-0.0314, -0.0076, -0.0015,  ..., -0.0009, -0.0289, -0.0018],\n",
      "        [ 0.0331,  0.0221, -0.0091,  ..., -0.0302, -0.0179,  0.0240],\n",
      "        [-0.0171, -0.0100,  0.0104,  ...,  0.0086, -0.0341,  0.0174]],\n",
      "       requires_grad=True)\n"
     ]
    }
   ],
   "source": [
    "# Updat step and weights updated\n",
    "optimizer.step()\n",
    "print('updated weights --' , model[0].weight)"
   ]
  },
  {
   "cell_type": "markdown",
   "metadata": {},
   "source": [
    "## SOLUTION  \n",
    "\n",
    "- Algorithm into a loop so we can go through all the images. one pass through the entire dataset is called an **epoch**. So here we're going to loop through trainloader to get our training batches. For each batch, we'll doing a training pass where we calculate the loss, do a backwards pass, and update the weights."
   ]
  },
  {
   "cell_type": "code",
   "execution_count": 9,
   "metadata": {},
   "outputs": [
    {
     "name": "stdout",
     "output_type": "stream",
     "text": [
      "Training loss: 1.9752200104788677\n",
      "Training loss: 0.9168159902604149\n",
      "Training loss: 0.5470624945438238\n",
      "Training loss: 0.44533174986968926\n",
      "Training loss: 0.39591231764252505\n"
     ]
    }
   ],
   "source": [
    "model = nn.Sequential(nn.Linear(784, 128),\n",
    "                      nn.ReLU(),\n",
    "                      nn.Linear(128, 64),\n",
    "                      nn.ReLU(),\n",
    "                      nn.Linear(64, 10),\n",
    "                      nn.LogSoftmax(dim=1))\n",
    "\n",
    "criterion = nn.NLLLoss()\n",
    "optimizer = optim.SGD(model.parameters(), lr=0.003)\n",
    "\n",
    "epochs = 5\n",
    "for e in range(epochs):\n",
    "        running_loss = 0\n",
    "        for images, labels in trainloader:\n",
    "            # Flatten MNIST images into a 784 long vector\n",
    "            images = images.view(images.shape[0], -1)\n",
    "            optimizer.zero_grad()\n",
    "\n",
    "            # TODO: Training pass\n",
    "\n",
    "            loss = criterion(model.forward(images), labels)\n",
    "            loss.backward()\n",
    "            \n",
    "            optimizer.step()\n",
    "            running_loss += loss.item()\n",
    "        \n",
    "        else:\n",
    "            print(f\"Training loss: {running_loss/len(trainloader)}\")\n"
   ]
  },
  {
   "cell_type": "code",
   "execution_count": 12,
   "metadata": {},
   "outputs": [
    {
     "name": "stdout",
     "output_type": "stream",
     "text": [
      "tensor([[8.0635e-06, 1.4671e-03, 2.3314e-02, 3.3154e-02, 1.8511e-03, 3.6528e-04,\n",
      "         6.7920e-06, 6.3255e-01, 1.8814e-02, 2.8847e-01]])\n"
     ]
    },
    {
     "data": {
      "image/png": "[encoded data removed]",
      "text/plain": [
       "<Figure size 432x288 with 1 Axes>"
      ]
     },
     "metadata": {},
     "output_type": "display_data"
    }
   ],
   "source": [
    "%matplotlib inline\n",
    "import matplotlib.pyplot as plt\n",
    "\n",
    "images, labels = next(iter(trainloader))\n",
    "\n",
    "img = images[0].view(1, 784)\n",
    "plt.imshow(images[0].numpy().squeeze(), cmap='Greys_r');\n",
    "# Turn off gradients to speed up this part\n",
    "with torch.no_grad():\n",
    "    logps = model(img)\n",
    "\n",
    "    \n",
    "# Output of the network are log-probabilities, need to take exponential for probabilities\n",
    "ps = torch.exp(logps)\n",
    "print(ps)\n"
   ]
  },
  {
   "cell_type": "code",
   "execution_count": null,
   "metadata": {},
   "outputs": [],
   "source": []
  }
 ],
 "metadata": {
  "kernelspec": {
   "display_name": "Python 3",
   "language": "python",
   "name": "python3"
  },
  "language_info": {
   "codemirror_mode": {
    "name": "ipython",
    "version": 3
   },
   "file_extension": ".py",
   "mimetype": "text/x-python",
   "name": "python",
   "nbconvert_exporter": "python",
   "pygments_lexer": "ipython3",
   "version": "3.6.7"
  }
 },
 "nbformat": 4,
 "nbformat_minor": 2
}
