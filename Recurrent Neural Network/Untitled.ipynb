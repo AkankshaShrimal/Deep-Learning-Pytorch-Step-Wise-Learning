{
 "cells": [
  {
   "cell_type": "markdown",
   "metadata": {},
   "source": []
  },
  {
   "cell_type": "markdown",
   "metadata": {},
   "source": []
  },
  {
   "cell_type": "code",
   "execution_count": 1,
   "metadata": {},
   "outputs": [],
   "source": [
    "import numpy as np\n",
    "import torch \n",
    "from torch import nn\n",
    "import torch.nn.functional as F"
   ]
  },
  {
   "cell_type": "code",
   "execution_count": 2,
   "metadata": {},
   "outputs": [],
   "source": [
    "# open text file and read in data as text\n",
    "with open('data/data.txt', 'r') as f :\n",
    "    text  = f.read()"
   ]
  },
  {
   "cell_type": "code",
   "execution_count": 3,
   "metadata": {},
   "outputs": [
    {
     "data": {
      "text/plain": [
       "'Chapter 1\\n\\n\\nHappy families are all alike; every unhappy family is unhappy in its own\\nway.\\n\\nEverythin'"
      ]
     },
     "execution_count": 3,
     "metadata": {},
     "output_type": "execute_result"
    }
   ],
   "source": [
    "# CHecking out first hundred characters\n",
    "text[:100]"
   ]
  },
  {
   "cell_type": "markdown",
   "metadata": {},
   "source": [
    "## Tokenization"
   ]
  },
  {
   "cell_type": "code",
   "execution_count": 4,
   "metadata": {},
   "outputs": [],
   "source": [
    "# Convert text into numerical tokens as models only learn from numerical data\n",
    "# Providing each ext to a unique index\n",
    "\n",
    "# Encode the text and map each character to an integer and vice and versa\n",
    "# chars is a set of all unique characters - using set\n",
    "chars = tuple(set(text))\n",
    "\n",
    "# Creating two dictionaries:\n",
    "# int2char , which maps integers to characters \n",
    "# char2int , which maps characters to unique integers \n",
    "int2char = dict(enumerate(chars))\n",
    "char2int = {ch: ii for ii, ch in int2char.items()}\n",
    "\n",
    "# encode the text\n",
    "encoded = np.array([char2int[ch] for ch in text])"
   ]
  },
  {
   "cell_type": "code",
   "execution_count": 5,
   "metadata": {},
   "outputs": [
    {
     "data": {
      "text/plain": [
       "array([68, 66, 67, 56, 25,  0, 37, 24, 57, 81, 81, 81, 17, 67, 56, 56, 71,\n",
       "       24,  7, 67, 60, 14, 46, 14,  0, 22, 24, 67, 37,  0, 24, 67, 46, 46,\n",
       "       24, 67, 46, 14, 29,  0, 13, 24,  0, 21,  0, 37, 71, 24, 38, 26, 66,\n",
       "       67, 56, 56, 71, 24,  7, 67, 60, 14, 46, 71, 24, 14, 22, 24, 38, 26,\n",
       "       66, 67, 56, 56, 71, 24, 14, 26, 24, 14, 25, 22, 24,  3, 73, 26, 81,\n",
       "       73, 67, 71, 53, 81, 81, 39, 21,  0, 37, 71, 25, 66, 14, 26])"
      ]
     },
     "execution_count": 5,
     "metadata": {},
     "output_type": "execute_result"
    }
   ],
   "source": [
    "encoded[:100]"
   ]
  },
  {
   "cell_type": "markdown",
   "metadata": {},
   "source": [
    "## Pre-Processing the data"
   ]
  },
  {
   "cell_type": "code",
   "execution_count": 6,
   "metadata": {},
   "outputs": [],
   "source": [
    "def  one_hot_encode(arr, n_labels):\n",
    "    \n",
    "    # Initialize the the encoded array\n",
    "    one_hot = np.zeros((np.multiply(*arr.shape), n_labels), dtype=np.float32)\n",
    "    \n",
    "    # Fill the appropriate elements with ones\n",
    "    one_hot[np.arange(one_hot.shape[0]), arr.flatten()] = 1.\n",
    "    \n",
    "    # Finally reshape it to get back to the original array\n",
    "    one_hot = one_hot.reshape((*arr.shape, n_labels))\n",
    "    \n",
    "    return one_hot"
   ]
  },
  {
   "cell_type": "code",
   "execution_count": 7,
   "metadata": {},
   "outputs": [
    {
     "name": "stdout",
     "output_type": "stream",
     "text": [
      "[[[0. 0. 0. 1. 0. 0. 0. 0.]\n",
      "  [0. 0. 0. 0. 0. 1. 0. 0.]\n",
      "  [0. 1. 0. 0. 0. 0. 0. 0.]]]\n"
     ]
    }
   ],
   "source": [
    "# check that the function works as expected\n",
    "# one_hot is created with length 8 with 1 present at index [3,5,1]\n",
    "test_seq = np.array([[3, 5, 1]])\n",
    "one_hot = one_hot_encode(test_seq, 8)\n",
    "\n",
    "print(one_hot)"
   ]
  },
  {
   "cell_type": "markdown",
   "metadata": {},
   "source": [
    "## Making training mini-batches"
   ]
  },
  {
   "cell_type": "code",
   "execution_count": 8,
   "metadata": {},
   "outputs": [],
   "source": [
    "def get_batches(arr, batch_size, seq_length):\n",
    "    '''Create a generator that returns batches of size\n",
    "       batch_size x seq_length from arr.\n",
    "       \n",
    "       Arguments\n",
    "       ---------\n",
    "       arr: Array you want to make batches from\n",
    "       batch_size: Batch size, the number of sequences per batch\n",
    "       seq_length: Number of encoded chars in a sequence\n",
    "    '''\n",
    "    batch_size_total = batch_size * seq_length\n",
    "    # total number of batches we can make\n",
    "    n_batches = len(arr)//batch_size_total\n",
    "    \n",
    "    # Keep only enough characters to make full batches\n",
    "    arr = arr[:n_batches * batch_size_total]\n",
    "    # Reshape into batch_size rows\n",
    "    arr = arr.reshape((batch_size, -1))\n",
    "    \n",
    "     # iterate through the array, one sequence at a time\n",
    "    for n in range(0, arr.shape[1], seq_length):\n",
    "        # The features\n",
    "        x = arr[:, n:n+seq_length]\n",
    "        # The targets, shifted by one\n",
    "        y = np.zeros_like(x)\n",
    "        # y has same elements of x all just shifted by 1\n",
    "        try:\n",
    "            y[:, :-1], y[:, -1] = x[:, 1:], arr[:, n+seq_length]\n",
    "        #Last element of y is first element of x\n",
    "        except IndexError:\n",
    "            y[:, :-1], y[:, -1] = x[:, 1:], arr[:, 0]\n",
    "        yield x, y"
   ]
  },
  {
   "cell_type": "markdown",
   "metadata": {},
   "source": [
    "## Test Your Implementation"
   ]
  },
  {
   "cell_type": "code",
   "execution_count": 9,
   "metadata": {},
   "outputs": [
    {
     "name": "stdout",
     "output_type": "stream",
     "text": [
      "x\n",
      " [[68 66 67 56 25  0 37 24 57 81]\n",
      " [22  3 26 24 25 66 67 25 24 67]\n",
      " [ 0 26  4 24  3 37 24 67 24  7]\n",
      " [22 24 25 66  0 24 40 66 14  0]\n",
      " [24 22 67 73 24 66  0 37 24 25]\n",
      " [40 38 22 22 14  3 26 24 67 26]\n",
      " [24 27 26 26 67 24 66 67  4 24]\n",
      " [41 34 46  3 26 22 29 71 53 24]]\n",
      "\n",
      "y\n",
      " [[66 67 56 25  0 37 24 57 81 81]\n",
      " [ 3 26 24 25 66 67 25 24 67 25]\n",
      " [26  4 24  3 37 24 67 24  7  3]\n",
      " [24 25 66  0 24 40 66 14  0  7]\n",
      " [22 67 73 24 66  0 37 24 25  0]\n",
      " [38 22 22 14  3 26 24 67 26  4]\n",
      " [27 26 26 67 24 66 67  4 24 22]\n",
      " [34 46  3 26 22 29 71 53 24 43]]\n"
     ]
    }
   ],
   "source": [
    "# Example set batch size of 8 and 50 sequence steps.\n",
    "\n",
    "batches = get_batches(encoded, 8, 50)\n",
    "x, y = next(batches)\n",
    "\n",
    "\n",
    "# printing out the first 10 items in a sequence# printi \n",
    "print('x\\n', x[:10, :10])\n",
    "print('\\ny\\n', y[:10, :10])"
   ]
  },
  {
   "cell_type": "markdown",
   "metadata": {},
   "source": [
    "## Defining the network with PyTorch"
   ]
  },
  {
   "cell_type": "code",
   "execution_count": 17,
   "metadata": {},
   "outputs": [],
   "source": [
    "class CharRNN(nn.Module):\n",
    "    \n",
    "    def __init__(self , tokens, n_hidden = 256, n_layers = 2, drop_prob = 0.5 , lr = 0.001):\n",
    "        \n",
    "        super().__init__()\n",
    "        self.drop_prob = drop_prob\n",
    "        self.n_layers = n_layers\n",
    "        self.n_hidden = n_hidden\n",
    "        self.lr = lr\n",
    "        \n",
    "        \n",
    "        # Creating character dictionaries \n",
    "        self.chars = tokens\n",
    "        self.int2char = dict(enumerate(self.chars))\n",
    "        self.char2int = {ch: ii for ii, ch in self.int2char.items()}\n",
    "        # Defining a LSTM\n",
    "        self.lstm = nn.LSTM(256,2, dropout = drop_prob, batch_first=True)\n",
    "        # Adding a Dropout\n",
    "        self.dropout = nn.Dropout(drop_prob)\n",
    "        \n",
    "        # Defining a fully connected output layer\n",
    "        self.fc = nn.Linear(n_hidden, len(self.chars))\n",
    "        \n",
    "    def forward(self,x, hidden):\n",
    "        \n",
    "        ''' Forward pass through the network. \n",
    "            These inputs are x, and the hidden/cell state `hidden`. '''\n",
    "                \n",
    "            # Outputs from the hidden state of lstm \n",
    "        r_output, hidden = self.lstm(x, hidden)\n",
    "            \n",
    "            # Pass output through a dropout layer \n",
    "        out = self.dropout(r_output)\n",
    "            \n",
    "             # Stack up LSTM outputs using view\n",
    "            # you may need to use contiguous to reshape the output\n",
    "        out = out.contiguous().view(-1, self.n_hidden)\n",
    "        \n",
    "            ## TODO: put x through the fully-connected layer\n",
    "        out = self.fc(out)\n",
    "\n",
    "            # return the final output and the hidden state\n",
    "        return out, hidden\n",
    "            \n",
    "     \n",
    "    def init_hidden(self, batch_size):\n",
    "        ''' Initializes hidden state '''\n",
    "        # Create two new tensors with sizes n_layers x batch_size x n_hidden,\n",
    "        # initialized to zero, for hidden state and cell state of LSTM\n",
    "        weight = next(self.parameters()).data\n",
    "        \n",
    "        if (train_on_gpu):\n",
    "            hidden = (weight.new(self.n_layers, batch_size, self.n_hidden).zero_().cuda(),\n",
    "                  weight.new(self.n_layers, batch_size, self.n_hidden).zero_().cuda())\n",
    "        else:\n",
    "            hidden = (weight.new(self.n_layers, batch_size, self.n_hidden).zero_(),\n",
    "                      weight.new(self.n_layers, batch_size, self.n_hidden).zero_())\n",
    "        \n",
    "        return hidden\n",
    "        "
   ]
  },
  {
   "cell_type": "markdown",
   "metadata": {},
   "source": [
    "## Time to train\n"
   ]
  },
  {
   "cell_type": "code",
   "execution_count": null,
   "metadata": {},
   "outputs": [],
   "source": []
  }
 ],
 "metadata": {
  "kernelspec": {
   "display_name": "Python 3",
   "language": "python",
   "name": "python3"
  },
  "language_info": {
   "codemirror_mode": {
    "name": "ipython",
    "version": 3
   },
   "file_extension": ".py",
   "mimetype": "text/x-python",
   "name": "python",
   "nbconvert_exporter": "python",
   "pygments_lexer": "ipython3",
   "version": "3.6.7"
  }
 },
 "nbformat": 4,
 "nbformat_minor": 2
}
