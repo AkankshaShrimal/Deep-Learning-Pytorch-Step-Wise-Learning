{
  "nbformat": 4,
  "nbformat_minor": 0,
  "metadata": {
    "colab": {
      "name": "Final_model_Deliverable_Part_1_4_Layers_(2,3,1)_with_BN_with_avg_pooling_dp_without_weight_Decay_LR(0_001)_augmentation_epochs_100.ipynb",
      "provenance": [],
      "collapsed_sections": [],
      "toc_visible": true
    },
    "kernelspec": {
      "name": "python3",
      "display_name": "Python 3"
    },
    "language_info": {
      "name": "python"
    },
    "accelerator": "GPU"
  },
  "cells": [
    {
      "cell_type": "markdown",
      "metadata": {
        "id": "z1y8_SXpdine"
      },
      "source": [
        "# Import statements "
      ]
    },
    {
      "cell_type": "code",
      "metadata": {
        "colab": {
          "base_uri": "https://localhost:8080/"
        },
        "id": "Iogvt5eI-NOk",
        "outputId": "092f9c25-c6c9-4985-f0ba-9223865cfece"
      },
      "source": [
        "from google.colab import drive\n",
        "drive.mount('/content/drive')"
      ],
      "execution_count": 15,
      "outputs": [
        {
          "output_type": "stream",
          "text": [
            "Drive already mounted at /content/drive; to attempt to forcibly remount, call drive.mount(\"/content/drive\", force_remount=True).\n"
          ],
          "name": "stdout"
        }
      ]
    },
    {
      "cell_type": "code",
      "metadata": {
        "id": "utDoiASySB39"
      },
      "source": [
        "from  my_ml_lib import MetricTools, PlotTools"
      ],
      "execution_count": 16,
      "outputs": []
    },
    {
      "cell_type": "code",
      "metadata": {
        "id": "2GPNbC8UdlZX"
      },
      "source": [
        "import os\n",
        "import numpy as np\n",
        "import matplotlib.pyplot as plt\n",
        "import pickle\n",
        "import pandas as pd \n",
        "import matplotlib.pyplot as plt\n",
        "from matplotlib.pyplot import figure \n",
        "import json\n",
        "import datetime\n",
        "import copy\n",
        "from PIL import Image as im\n",
        "import joblib\n",
        "from sklearn.model_selection import train_test_split\n",
        "# import math as Math\n",
        "import random\n",
        "import torch.optim"
      ],
      "execution_count": 17,
      "outputs": []
    },
    {
      "cell_type": "code",
      "metadata": {
        "id": "XznHCx6ydmmS"
      },
      "source": [
        "import torch\n",
        "from torch import nn\n",
        "from torch import optim\n",
        "import torch.nn.functional as F\n",
        "from torchvision import datasets, transforms, models\n",
        "from torch.utils.data import DataLoader\n",
        "from torch.utils.data import Dataset\n",
        "import torchvision"
      ],
      "execution_count": 18,
      "outputs": []
    },
    {
      "cell_type": "code",
      "metadata": {
        "id": "2FRmNHO_dmrF"
      },
      "source": [
        "import cv2"
      ],
      "execution_count": 19,
      "outputs": []
    },
    {
      "cell_type": "code",
      "metadata": {
        "id": "vqL1Kq0idnDC"
      },
      "source": [
        ""
      ],
      "execution_count": 19,
      "outputs": []
    },
    {
      "cell_type": "markdown",
      "metadata": {
        "id": "HVR5HtsIdncF"
      },
      "source": [
        "# Saving and Loading code "
      ]
    },
    {
      "cell_type": "code",
      "metadata": {
        "id": "P9yFkBbUdoz7"
      },
      "source": [
        "# Saving and Loading models using joblib \n",
        "def save(filename, obj):\n",
        "  with open(filename, 'wb') as handle:\n",
        "      joblib.dump(obj, handle, protocol=pickle.HIGHEST_PROTOCOL)\n",
        "\n",
        "def load(filename):\n",
        "  with open(filename, 'rb') as handle:\n",
        "      return joblib.load(filename)\n"
      ],
      "execution_count": 20,
      "outputs": []
    },
    {
      "cell_type": "markdown",
      "metadata": {
        "id": "WVxLGeMgdqkW"
      },
      "source": [
        "# Importing Dataset "
      ]
    },
    {
      "cell_type": "code",
      "metadata": {
        "id": "B__Ue0eRdsaj"
      },
      "source": [
        "# p = \"/content/drive/MyDrive/A3/\"\n",
        "p = \"/content/drive/MyDrive/SEM-2/05-DL /Assignments/A3/\"\n",
        "data_path = p + \"dataset/train.pkl\"\n",
        "x = load(data_path)"
      ],
      "execution_count": 28,
      "outputs": []
    },
    {
      "cell_type": "code",
      "metadata": {
        "id": "yyaA-Cq-wqeF"
      },
      "source": [
        "# !ls \"/content/drive/MyDrive/SEM-2/05-DL /Assignments/A4/\""
      ],
      "execution_count": 30,
      "outputs": []
    },
    {
      "cell_type": "code",
      "metadata": {
        "id": "4j-AhjELo0At"
      },
      "source": [
        "# save_path = \"/content/drive/MyDrive/SEM-2/05-DL /Assignments/A3/dataset/\"\n",
        "# # saving the images and labels array \n",
        "# save(save_path + \"data_image.pkl\",data_image)\n",
        "# save(save_path + \"data_label.pkl\",data_label)\n",
        "# # dict values where labels key and image arrays as vlaues in form of list \n",
        "# save(save_path + \"my_dict.pkl\",my_dict)"
      ],
      "execution_count": 31,
      "outputs": []
    },
    {
      "cell_type": "code",
      "metadata": {
        "id": "zKurY8cao0HV"
      },
      "source": [
        "save_path = p + \"dataset/\"\n",
        "# saving the images and labels array \n",
        "data_image = load(save_path + \"data_image.pkl\")\n",
        "data_label = load(save_path + \"data_label.pkl\")\n",
        "# dict values where labels key and image arrays as vlaues in form of list \n",
        "my_dict = load(save_path + \"my_dict.pkl\")"
      ],
      "execution_count": 32,
      "outputs": []
    },
    {
      "cell_type": "code",
      "metadata": {
        "colab": {
          "base_uri": "https://localhost:8080/"
        },
        "id": "K1Mjytyoo0OM",
        "outputId": "3f91d127-aebf-4d56-ba4f-f66ba893c0c8"
      },
      "source": [
        "len(data_image) , len(data_label), my_dict.keys()"
      ],
      "execution_count": 33,
      "outputs": [
        {
          "output_type": "execute_result",
          "data": {
            "text/plain": [
              "(5000, 5000, dict_keys([0, 1, 2, 3, 4, 5, 6, 7, 8, 9]))"
            ]
          },
          "metadata": {
            "tags": []
          },
          "execution_count": 33
        }
      ]
    },
    {
      "cell_type": "markdown",
      "metadata": {
        "id": "reu4bmKXzZch"
      },
      "source": [
        "# Data Class and Data Loaders and Data transforms "
      ]
    },
    {
      "cell_type": "code",
      "metadata": {
        "colab": {
          "base_uri": "https://localhost:8080/"
        },
        "id": "BUHDt_iEzbtB",
        "outputId": "bc65f2e8-6dac-4db0-864f-55695d4a9452"
      },
      "source": [
        "len(x['names']) ,x['names'][4999] , data_image[0].shape"
      ],
      "execution_count": 34,
      "outputs": [
        {
          "output_type": "execute_result",
          "data": {
            "text/plain": [
              "(5000, 'train05000', (32, 32, 3))"
            ]
          },
          "metadata": {
            "tags": []
          },
          "execution_count": 34
        }
      ]
    },
    {
      "cell_type": "markdown",
      "metadata": {
        "id": "7UY8CjMb3L45"
      },
      "source": [
        "## Splitting the data into train and val"
      ]
    },
    {
      "cell_type": "code",
      "metadata": {
        "id": "QaTSdOG63Qk_"
      },
      "source": [
        "X_train, X_test, y_train, y_test = train_test_split(data_image, data_label, test_size=0.10, random_state=42,stratify=data_label )"
      ],
      "execution_count": 35,
      "outputs": []
    },
    {
      "cell_type": "code",
      "metadata": {
        "colab": {
          "base_uri": "https://localhost:8080/"
        },
        "id": "WrRaxUfb30Nh",
        "outputId": "89362c0c-9469-4ec7-deb4-ccf8f995a450"
      },
      "source": [
        "len(X_train) , len(y_train) , len(X_test) ,len(y_test)"
      ],
      "execution_count": 36,
      "outputs": [
        {
          "output_type": "execute_result",
          "data": {
            "text/plain": [
              "(4500, 4500, 500, 500)"
            ]
          },
          "metadata": {
            "tags": []
          },
          "execution_count": 36
        }
      ]
    },
    {
      "cell_type": "code",
      "metadata": {
        "colab": {
          "base_uri": "https://localhost:8080/"
        },
        "id": "-PYnG0eY4idN",
        "outputId": "774ee159-cb52-4f71-9abc-a2d3864b27a9"
      },
      "source": [
        "pd.DataFrame(y_test).value_counts() "
      ],
      "execution_count": 37,
      "outputs": [
        {
          "output_type": "execute_result",
          "data": {
            "text/plain": [
              "9    50\n",
              "8    50\n",
              "7    50\n",
              "6    50\n",
              "5    50\n",
              "4    50\n",
              "3    50\n",
              "2    50\n",
              "1    50\n",
              "0    50\n",
              "dtype: int64"
            ]
          },
          "metadata": {
            "tags": []
          },
          "execution_count": 37
        }
      ]
    },
    {
      "cell_type": "markdown",
      "metadata": {
        "id": "8DBejOVP3Ts9"
      },
      "source": [
        "## Data Class"
      ]
    },
    {
      "cell_type": "code",
      "metadata": {
        "id": "pd72TAxBwLkw"
      },
      "source": [
        "train_transforms = transforms.Compose([\n",
        "                                       transforms.RandomHorizontalFlip(),\n",
        "])\n",
        "\n",
        "val_transforms = transforms.Compose([\n",
        "])"
      ],
      "execution_count": 38,
      "outputs": []
    },
    {
      "cell_type": "code",
      "metadata": {
        "id": "LiDsHK8MzcD4"
      },
      "source": [
        "class myDataClass(Dataset):\n",
        "  \"\"\"Custom dataset class\"\"\"\n",
        "\n",
        "  def __init__(self, images, labels , transform=None):\n",
        "\n",
        "    \"\"\"\n",
        "    Args:\n",
        "        images : Array of all the images \n",
        "        labels : Correspoing labels of all the images \n",
        "    \"\"\"\n",
        "    \n",
        "    self.images = images\n",
        "    self.labels = labels\n",
        "    self.transform = transform\n",
        "    \n",
        "  def __len__(self):\n",
        "\n",
        "    return len(self.images)\n",
        "\n",
        "  def __getitem__(self, idx):\n",
        "    # converts image value between 0 and 1 and returns a tensor C,H,W \n",
        "    img = torchvision.transforms.functional.to_tensor(self.images[idx])\n",
        "    target = self.labels[idx]\n",
        "    \n",
        "\n",
        "    if self.transform:\n",
        "        img = self.transform(img)\n",
        "    return img,target "
      ],
      "execution_count": 39,
      "outputs": []
    },
    {
      "cell_type": "markdown",
      "metadata": {
        "id": "P-M6IB6o3WQh"
      },
      "source": [
        "## Data Loaders "
      ]
    },
    {
      "cell_type": "code",
      "metadata": {
        "id": "TGBYO6J_zcGe"
      },
      "source": [
        "batch = 64\n",
        "train_dataset = myDataClass(X_train, y_train,train_transforms)\n",
        "test_dataset = myDataClass(X_test, y_test)\n",
        "\n",
        "train_dataloader = DataLoader(train_dataset, batch_size= batch, shuffle=True)\n",
        "test_dataloader = DataLoader(test_dataset, batch_size= batch, shuffle=True)"
      ],
      "execution_count": 40,
      "outputs": []
    },
    {
      "cell_type": "code",
      "metadata": {
        "id": "XlZB_gOB2_KQ"
      },
      "source": [
        "# next(iter(train_dataloader))[0].shape"
      ],
      "execution_count": 41,
      "outputs": []
    },
    {
      "cell_type": "code",
      "metadata": {
        "colab": {
          "base_uri": "https://localhost:8080/"
        },
        "id": "NxSyJNaI26T_",
        "outputId": "823c8b9d-34cf-4533-8a3a-b575b4aee5bf"
      },
      "source": [
        "len(train_dataloader) , len(test_dataloader)"
      ],
      "execution_count": 42,
      "outputs": [
        {
          "output_type": "execute_result",
          "data": {
            "text/plain": [
              "(71, 8)"
            ]
          },
          "metadata": {
            "tags": []
          },
          "execution_count": 42
        }
      ]
    },
    {
      "cell_type": "markdown",
      "metadata": {
        "id": "bpz1XVRu_ql9"
      },
      "source": [
        "# Train and Test functions "
      ]
    },
    {
      "cell_type": "code",
      "metadata": {
        "id": "0_3OoxMmNg1t"
      },
      "source": [
        "def load_best(all_models,model_test):\n",
        "  FILE  = all_models[-1]\n",
        "  \n",
        "  criterion = nn.CrossEntropyLoss()\n",
        "  optimizer = optim.Adam(model_test.parameters(), lr=0)\n",
        "\n",
        "  checkpoint = torch.load(FILE)\n",
        "  model_test.load_state_dict(checkpoint['model_state'])\n",
        "  optimizer.load_state_dict(checkpoint['optim_state'])\n",
        "  epoch = checkpoint['epoch']\n",
        "  model_test.eval()\n",
        "\n",
        "  return model_test\n"
      ],
      "execution_count": 43,
      "outputs": []
    },
    {
      "cell_type": "code",
      "metadata": {
        "id": "IawJoK7T_xqi"
      },
      "source": [
        "def train(save_path,epochs,train_dataloader,model,test_dataloader,optimizer,criterion,basic_name):\n",
        "  model_no = 1\n",
        "  c = 1\n",
        "  all_models = []\n",
        "\n",
        "  valid_loss_min = np.Inf \n",
        "  train_losses = []\n",
        "  val_losses = []\n",
        "\n",
        "  for e in range(epochs):\n",
        "\n",
        "      train_loss = 0.0\n",
        "      valid_loss = 0.0\n",
        "\n",
        "      model.train()\n",
        "      \n",
        "      for idx, (images,labels) in enumerate(train_dataloader):\n",
        "        \n",
        "          images, labels = images.to(device) , labels.to(device) \n",
        "    \n",
        "          optimizer.zero_grad()        \n",
        "          log_ps= model(images)\n",
        "          loss = criterion(log_ps, labels)\n",
        "          loss.backward()\n",
        "          optimizer.step()\n",
        "          \n",
        "          train_loss += ((1 / (idx + 1)) * (loss.data - train_loss))\n",
        "      else:\n",
        "\n",
        "          accuracy = 0\n",
        "          correct = 0\n",
        "          model.eval()\n",
        "\n",
        "          with torch.no_grad():\n",
        "              for idx, (images,labels) in enumerate(test_dataloader):\n",
        "\n",
        "                  images, labels = images.to(device) , labels.to(device)\n",
        "\n",
        "                  log_ps = model(images)\n",
        "                  \n",
        "                  _, predicted = torch.max(log_ps.data, 1)\n",
        "                  loss = criterion(log_ps, labels)\n",
        "\n",
        "                  # correct += (predicted == labels).sum().item()\n",
        "                  equals = predicted == labels.view(*predicted.shape)\n",
        "                  accuracy += torch.mean(equals.type(torch.FloatTensor))\n",
        "                  valid_loss += ((1 / (idx + 1)) * (loss.data - valid_loss))\n",
        "\n",
        "          print('Epoch: {} \\tTraining Loss: {:.6f} \\tValidation Loss: {:.6f}'.format(\n",
        "              e+1, \n",
        "              train_loss,\n",
        "              valid_loss\n",
        "              ), \"Test Accuracy: {:.3f}\".format(accuracy/len(test_dataloader)))\n",
        "\n",
        "          train_losses.append(train_loss)\n",
        "          val_losses.append(valid_loss)\n",
        "\n",
        "          if valid_loss < valid_loss_min:\n",
        "            \n",
        "            print('Saving model..' + str(model_no))\n",
        "            valid_loss_min = valid_loss\n",
        "\n",
        "            checkpoint = {\n",
        "            \"epoch\": e+1,\n",
        "            \"model_state\": model.state_dict(),\n",
        "            \"optim_state\": optimizer.state_dict(),\n",
        "            \"train_losses\": train_losses,\n",
        "            \"test_losses\": val_losses,\n",
        "            }\n",
        "\n",
        "            FILE =  save_path + basic_name +\"_epoch_\" + str(e+1) + \"_model_\" +  str(model_no)\n",
        "            all_models.append(FILE)\n",
        "            torch.save(checkpoint, FILE)\n",
        "            model_no = model_no + 1\n",
        "          \n",
        "  \n",
        "  save(save_path + basic_name + \"_all_models.pkl\", all_models)\n",
        "  return model, train_losses, val_losses, all_models \n",
        "   "
      ],
      "execution_count": 44,
      "outputs": []
    },
    {
      "cell_type": "code",
      "metadata": {
        "id": "9S6qsEzj_x9n"
      },
      "source": [
        "def plot(train_losses,val_losses,title='Training Validation Loss with CNN'):\n",
        "  plt.plot(train_losses, label='Training loss')\n",
        "  plt.plot(val_losses, label='Validation loss')\n",
        "  plt.xlabel('Iterations')\n",
        "  plt.ylabel('Loss')\n",
        "  plt.legend()\n",
        "  _ = plt.ylim()\n",
        "  plt.title(title)\n",
        "  # plt.savefig('plots/Training Validation Loss with CNN from scratch.png')\n",
        "  plt.show()"
      ],
      "execution_count": 45,
      "outputs": []
    },
    {
      "cell_type": "code",
      "metadata": {
        "id": "GkMgxEVD_yJN"
      },
      "source": [
        "def test(loader, model, criterion, device, name):\n",
        "    test_loss = 0.\n",
        "    correct = 0.\n",
        "    total = 0.\n",
        "    y = None\n",
        "    y_hat = None\n",
        "    \n",
        "    model.eval()\n",
        "    for batch_idx, (images, labels) in enumerate(loader):\n",
        "\n",
        "        # move to GPU or CPU\n",
        "        images, labels = images.to(device)   , labels.to(device) \n",
        "        target = labels\n",
        "\n",
        "        # forward pass: compute predicted outputs by passing inputs to the model\n",
        "        output = model(images)\n",
        "        # calculate the loss\n",
        "        loss = criterion(output,labels)\n",
        "        # update average test loss \n",
        "        test_loss = test_loss + ((1 / (batch_idx + 1)) * (loss.data - test_loss))\n",
        "        # convert output probabilities to predicted class\n",
        "        pred = output.data.max(1, keepdim=True)[1]\n",
        "\n",
        "        if y is None:\n",
        "            y = target.cpu().numpy()\n",
        "            y_hat = pred.data.cpu().view_as(target).numpy()\n",
        "        else:\n",
        "            y = np.append(y, target.cpu().numpy())\n",
        "            y_hat = np.append(y_hat, pred.data.cpu().view_as(target).numpy())\n",
        "\n",
        "\n",
        "        correct += np.sum(pred.view_as(labels).cpu().numpy() == labels.cpu().numpy())\n",
        "        total = total + images.size(0)\n",
        "        # if batch_idx % 20 == 0:\n",
        "        #     print(\"done till batch\" , batch_idx+1)\n",
        "            \n",
        "    print(name + ' Loss: {:.6f}\\n'.format(test_loss))\n",
        "\n",
        "    print(name + ' Accuracy: %2d%% (%2d/%2d)' % (\n",
        "        100. * correct / total, correct, total))\n",
        "    return y, y_hat"
      ],
      "execution_count": 46,
      "outputs": []
    },
    {
      "cell_type": "code",
      "metadata": {
        "id": "efG8-oAkEv3z"
      },
      "source": [
        "device = torch.device('cuda' if torch.cuda.is_available() else 'cpu')"
      ],
      "execution_count": 47,
      "outputs": []
    },
    {
      "cell_type": "code",
      "metadata": {
        "id": "wpqqkahKHE4l"
      },
      "source": [
        "# def train(save_path,epochs,train_dataloader,model,test_dataloader,optimizer,criterion,basic_name)\n",
        "# def plot(train_losses,val_losses,title='Training Validation Loss with CNN')\n",
        "# def test(loader, model, criterion, device)"
      ],
      "execution_count": 48,
      "outputs": []
    },
    {
      "cell_type": "markdown",
      "metadata": {
        "id": "wec0leCLEwYo"
      },
      "source": [
        "# Relu [ X=2 Y=3 Z=1 ] "
      ]
    },
    {
      "cell_type": "markdown",
      "metadata": {
        "id": "uzqyfCNfqiXN"
      },
      "source": [
        "## CNN-Block-123"
      ]
    },
    {
      "cell_type": "markdown",
      "metadata": {
        "id": "sVJG2N7gqmoh"
      },
      "source": [
        "### model "
      ]
    },
    {
      "cell_type": "code",
      "metadata": {
        "id": "bs9JxROAqmHf"
      },
      "source": [
        "cfg3 = {\n",
        "    'B123': [16,16,'M','D',32,32,32,'M','D',64,'M','D'],\n",
        "}"
      ],
      "execution_count": 49,
      "outputs": []
    },
    {
      "cell_type": "code",
      "metadata": {
        "id": "Iu5D4gUWqq2t"
      },
      "source": [
        "def make_layers3(cfg, batch_norm=True):\n",
        "\n",
        "    layers = []\n",
        "    in_channels = 3\n",
        "    for v in cfg:\n",
        "        if v == 'M':\n",
        "            layers += [nn.AvgPool2d(kernel_size=2, stride=2)]\n",
        "        elif v == 'M1':\n",
        "            layers += [nn.AvgPool2d(kernel_size=4, stride=3)]\n",
        "        elif v == 'D':\n",
        "            layers += [nn.Dropout(p=0.5)]\n",
        "        else:\n",
        "            conv2d = nn.Conv2d(in_channels, v, kernel_size=3)\n",
        "            if batch_norm:\n",
        "                layers += [conv2d, nn.BatchNorm2d(v), nn.ReLU(inplace=True)]\n",
        "            else:\n",
        "                layers += [conv2d, nn.ReLU(inplace=True)]\n",
        "            in_channels = v\n",
        "\n",
        "    return nn.Sequential(*layers)"
      ],
      "execution_count": 50,
      "outputs": []
    },
    {
      "cell_type": "code",
      "metadata": {
        "id": "ewWE-5oTrA1v"
      },
      "source": [
        "class Model_B123(nn.Module):\n",
        "    '''\n",
        "        Model\n",
        "    '''\n",
        "    def __init__(self, features):\n",
        "\n",
        "        super(Model_B123, self).__init__()\n",
        "        self.features = features \n",
        "\n",
        "        self.classifier = nn.Sequential(\n",
        "            # nn.Linear(1600, 512),\n",
        "            # nn.ReLU(True),\n",
        "            # nn.Linear(512, 256),\n",
        "            # nn.ReLU(True),\n",
        "            # nn.Linear(256, 64),\n",
        "            # nn.ReLU(True),\n",
        "            nn.Linear(64, 10),\n",
        "        )\n",
        "       \n",
        "    def forward(self, x):\n",
        "        x = self.features(x)\n",
        "        # print(x.shape)\n",
        "        x = x.view(x.size(0), -1)\n",
        "        x = self.classifier(x)\n",
        "        return x"
      ],
      "execution_count": 51,
      "outputs": []
    },
    {
      "cell_type": "code",
      "metadata": {
        "id": "gOOCCTbarA-A"
      },
      "source": [
        "# m = Model_B123(make_layers3(cfg3['B123']))\n",
        "# for i,l in train_dataloader:\n",
        "#   o = m(i)"
      ],
      "execution_count": 66,
      "outputs": []
    },
    {
      "cell_type": "code",
      "metadata": {
        "colab": {
          "base_uri": "https://localhost:8080/"
        },
        "id": "v6ZRV-LOrrTr",
        "outputId": "08385a43-cfd0-4384-8ce9-26a2ebc96395"
      },
      "source": [
        "model3 = Model_B123(make_layers3(cfg3['B123'])).to(device) \n",
        "learning_rate = 0.001\n",
        "criterion3 = nn.CrossEntropyLoss()\n",
        "optimizer3 = optim.Adam(model3.parameters(), lr=learning_rate)\n",
        "print(model3)"
      ],
      "execution_count": 67,
      "outputs": [
        {
          "output_type": "stream",
          "text": [
            "Model_B123(\n",
            "  (features): Sequential(\n",
            "    (0): Conv2d(3, 16, kernel_size=(3, 3), stride=(1, 1))\n",
            "    (1): BatchNorm2d(16, eps=1e-05, momentum=0.1, affine=True, track_running_stats=True)\n",
            "    (2): ReLU(inplace=True)\n",
            "    (3): Conv2d(16, 16, kernel_size=(3, 3), stride=(1, 1))\n",
            "    (4): BatchNorm2d(16, eps=1e-05, momentum=0.1, affine=True, track_running_stats=True)\n",
            "    (5): ReLU(inplace=True)\n",
            "    (6): AvgPool2d(kernel_size=2, stride=2, padding=0)\n",
            "    (7): Dropout(p=0.5, inplace=False)\n",
            "    (8): Conv2d(16, 32, kernel_size=(3, 3), stride=(1, 1))\n",
            "    (9): BatchNorm2d(32, eps=1e-05, momentum=0.1, affine=True, track_running_stats=True)\n",
            "    (10): ReLU(inplace=True)\n",
            "    (11): Conv2d(32, 32, kernel_size=(3, 3), stride=(1, 1))\n",
            "    (12): BatchNorm2d(32, eps=1e-05, momentum=0.1, affine=True, track_running_stats=True)\n",
            "    (13): ReLU(inplace=True)\n",
            "    (14): Conv2d(32, 32, kernel_size=(3, 3), stride=(1, 1))\n",
            "    (15): BatchNorm2d(32, eps=1e-05, momentum=0.1, affine=True, track_running_stats=True)\n",
            "    (16): ReLU(inplace=True)\n",
            "    (17): AvgPool2d(kernel_size=2, stride=2, padding=0)\n",
            "    (18): Dropout(p=0.5, inplace=False)\n",
            "    (19): Conv2d(32, 64, kernel_size=(3, 3), stride=(1, 1))\n",
            "    (20): BatchNorm2d(64, eps=1e-05, momentum=0.1, affine=True, track_running_stats=True)\n",
            "    (21): ReLU(inplace=True)\n",
            "    (22): AvgPool2d(kernel_size=2, stride=2, padding=0)\n",
            "    (23): Dropout(p=0.5, inplace=False)\n",
            "  )\n",
            "  (classifier): Sequential(\n",
            "    (0): Linear(in_features=64, out_features=10, bias=True)\n",
            "  )\n",
            ")\n"
          ],
          "name": "stdout"
        }
      ]
    },
    {
      "cell_type": "markdown",
      "metadata": {
        "id": "J64Z8g_Jqr7V"
      },
      "source": [
        "### train "
      ]
    },
    {
      "cell_type": "code",
      "metadata": {
        "id": "JeJ9mIPcqrAP"
      },
      "source": [
        "# !rm  '/content/drive/MyDrive/SEM-2/05-DL /Assignments/A3/models_saved_Q1/1_3/bw_blocks/Dropout(0.5)/cnn_block123/'*\n",
        "# !ls  '/content/drive/MyDrive/SEM-2/05-DL /Assignments/A3/models_saved_Q1/1_3/bw_blocks/Dropout(0.5)/cnn_block123/'"
      ],
      "execution_count": 68,
      "outputs": []
    },
    {
      "cell_type": "code",
      "metadata": {
        "id": "ktg9rq0EqrH0"
      },
      "source": [
        "# save_path3 = p + \"models_saved_Q1/1_4/colab_notebooks /Batchnorm_and_pooling/models/\""
      ],
      "execution_count": 69,
      "outputs": []
    },
    {
      "cell_type": "code",
      "metadata": {
        "id": "E2m0WVW_2A9T"
      },
      "source": [
        "save_path3 = p + \"models_saved_Q1/1_4/colab_notebooks /Final_my_model/Final_saved_models/\""
      ],
      "execution_count": 70,
      "outputs": []
    },
    {
      "cell_type": "code",
      "metadata": {
        "id": "EOLKVubE45Y7"
      },
      "source": [
        "# !ls \"/content/drive/MyDrive/A3/models_saved_Q1/1_4/colab_notebooks /Final_my_model/Final_saved_models/\""
      ],
      "execution_count": 71,
      "outputs": []
    },
    {
      "cell_type": "code",
      "metadata": {
        "colab": {
          "base_uri": "https://localhost:8080/"
        },
        "id": "Jk9rZw1PyJDj",
        "outputId": "926ea9c9-5970-43d3-c1aa-fbb98e4e39be"
      },
      "source": [
        "# m, train_losses, val_losses,m_all_models = train(save_path3,100,train_dataloader,model3,test_dataloader,optimizer3,criterion3,\"cnn_b123_x2_y3_z1_with_BN_avg_pool_dp_without_WD_0.001_with_aug_epoch_100_Best\")"
      ],
      "execution_count": 72,
      "outputs": [
        {
          "output_type": "stream",
          "text": [
            "Epoch: 1 \tTraining Loss: 1.994734 \tValidation Loss: 1.709049 Test Accuracy: 0.399\n",
            "Saving model..1\n",
            "Epoch: 2 \tTraining Loss: 1.630799 \tValidation Loss: 1.487276 Test Accuracy: 0.469\n",
            "Saving model..2\n",
            "Epoch: 3 \tTraining Loss: 1.481816 \tValidation Loss: 1.300636 Test Accuracy: 0.542\n",
            "Saving model..3\n",
            "Epoch: 4 \tTraining Loss: 1.392156 \tValidation Loss: 1.296948 Test Accuracy: 0.520\n",
            "Saving model..4\n",
            "Epoch: 5 \tTraining Loss: 1.323025 \tValidation Loss: 1.250851 Test Accuracy: 0.553\n",
            "Saving model..5\n",
            "Epoch: 6 \tTraining Loss: 1.275558 \tValidation Loss: 1.470724 Test Accuracy: 0.459\n",
            "Epoch: 7 \tTraining Loss: 1.222577 \tValidation Loss: 1.065265 Test Accuracy: 0.593\n",
            "Saving model..6\n",
            "Epoch: 8 \tTraining Loss: 1.180264 \tValidation Loss: 1.050494 Test Accuracy: 0.610\n",
            "Saving model..7\n",
            "Epoch: 9 \tTraining Loss: 1.130658 \tValidation Loss: 1.120413 Test Accuracy: 0.597\n",
            "Epoch: 10 \tTraining Loss: 1.119756 \tValidation Loss: 1.460953 Test Accuracy: 0.492\n",
            "Epoch: 11 \tTraining Loss: 1.057803 \tValidation Loss: 1.285872 Test Accuracy: 0.552\n",
            "Epoch: 12 \tTraining Loss: 1.049827 \tValidation Loss: 1.107628 Test Accuracy: 0.610\n",
            "Epoch: 13 \tTraining Loss: 1.003676 \tValidation Loss: 1.105079 Test Accuracy: 0.623\n",
            "Epoch: 14 \tTraining Loss: 1.011498 \tValidation Loss: 0.945001 Test Accuracy: 0.672\n",
            "Saving model..8\n",
            "Epoch: 15 \tTraining Loss: 0.982963 \tValidation Loss: 0.964715 Test Accuracy: 0.674\n",
            "Epoch: 16 \tTraining Loss: 0.976534 \tValidation Loss: 1.456003 Test Accuracy: 0.519\n",
            "Epoch: 17 \tTraining Loss: 0.950392 \tValidation Loss: 0.982353 Test Accuracy: 0.647\n",
            "Epoch: 18 \tTraining Loss: 0.948464 \tValidation Loss: 0.900303 Test Accuracy: 0.676\n",
            "Saving model..9\n",
            "Epoch: 19 \tTraining Loss: 0.928963 \tValidation Loss: 0.886830 Test Accuracy: 0.672\n",
            "Saving model..10\n",
            "Epoch: 20 \tTraining Loss: 0.903706 \tValidation Loss: 0.907878 Test Accuracy: 0.674\n",
            "Epoch: 21 \tTraining Loss: 0.921253 \tValidation Loss: 0.999368 Test Accuracy: 0.662\n",
            "Epoch: 22 \tTraining Loss: 0.893921 \tValidation Loss: 0.986353 Test Accuracy: 0.651\n",
            "Epoch: 23 \tTraining Loss: 0.877903 \tValidation Loss: 1.308833 Test Accuracy: 0.546\n",
            "Epoch: 24 \tTraining Loss: 0.893231 \tValidation Loss: 0.956614 Test Accuracy: 0.676\n",
            "Epoch: 25 \tTraining Loss: 0.845844 \tValidation Loss: 0.882172 Test Accuracy: 0.688\n",
            "Saving model..11\n",
            "Epoch: 26 \tTraining Loss: 0.852497 \tValidation Loss: 0.920055 Test Accuracy: 0.673\n",
            "Epoch: 27 \tTraining Loss: 0.850116 \tValidation Loss: 0.965021 Test Accuracy: 0.671\n",
            "Epoch: 28 \tTraining Loss: 0.831598 \tValidation Loss: 0.923222 Test Accuracy: 0.681\n",
            "Epoch: 29 \tTraining Loss: 0.826781 \tValidation Loss: 0.884727 Test Accuracy: 0.684\n",
            "Epoch: 30 \tTraining Loss: 0.810387 \tValidation Loss: 0.834718 Test Accuracy: 0.706\n",
            "Saving model..12\n",
            "Epoch: 31 \tTraining Loss: 0.814645 \tValidation Loss: 0.941203 Test Accuracy: 0.685\n",
            "Epoch: 32 \tTraining Loss: 0.809418 \tValidation Loss: 0.794423 Test Accuracy: 0.719\n",
            "Saving model..13\n",
            "Epoch: 33 \tTraining Loss: 0.804740 \tValidation Loss: 0.878003 Test Accuracy: 0.683\n",
            "Epoch: 34 \tTraining Loss: 0.794100 \tValidation Loss: 1.102090 Test Accuracy: 0.631\n",
            "Epoch: 35 \tTraining Loss: 0.804993 \tValidation Loss: 0.735563 Test Accuracy: 0.727\n",
            "Saving model..14\n",
            "Epoch: 36 \tTraining Loss: 0.759464 \tValidation Loss: 0.955704 Test Accuracy: 0.672\n",
            "Epoch: 37 \tTraining Loss: 0.775534 \tValidation Loss: 0.849878 Test Accuracy: 0.683\n",
            "Epoch: 38 \tTraining Loss: 0.747864 \tValidation Loss: 0.915175 Test Accuracy: 0.681\n",
            "Epoch: 39 \tTraining Loss: 0.765497 \tValidation Loss: 0.866257 Test Accuracy: 0.682\n",
            "Epoch: 40 \tTraining Loss: 0.772734 \tValidation Loss: 0.959011 Test Accuracy: 0.644\n",
            "Epoch: 41 \tTraining Loss: 0.764488 \tValidation Loss: 1.044967 Test Accuracy: 0.649\n",
            "Epoch: 42 \tTraining Loss: 0.765407 \tValidation Loss: 0.787627 Test Accuracy: 0.723\n",
            "Epoch: 43 \tTraining Loss: 0.731562 \tValidation Loss: 0.844589 Test Accuracy: 0.701\n",
            "Epoch: 44 \tTraining Loss: 0.740987 \tValidation Loss: 0.969881 Test Accuracy: 0.674\n",
            "Epoch: 45 \tTraining Loss: 0.765347 \tValidation Loss: 0.827058 Test Accuracy: 0.708\n",
            "Epoch: 46 \tTraining Loss: 0.736854 \tValidation Loss: 0.732454 Test Accuracy: 0.727\n",
            "Saving model..15\n",
            "Epoch: 47 \tTraining Loss: 0.722938 \tValidation Loss: 0.870885 Test Accuracy: 0.702\n",
            "Epoch: 48 \tTraining Loss: 0.730728 \tValidation Loss: 0.807845 Test Accuracy: 0.717\n",
            "Epoch: 49 \tTraining Loss: 0.712229 \tValidation Loss: 0.875778 Test Accuracy: 0.711\n",
            "Epoch: 50 \tTraining Loss: 0.738285 \tValidation Loss: 0.734337 Test Accuracy: 0.733\n",
            "Epoch: 51 \tTraining Loss: 0.715992 \tValidation Loss: 0.724105 Test Accuracy: 0.747\n",
            "Saving model..16\n",
            "Epoch: 52 \tTraining Loss: 0.696640 \tValidation Loss: 0.793447 Test Accuracy: 0.725\n",
            "Epoch: 53 \tTraining Loss: 0.715658 \tValidation Loss: 0.761206 Test Accuracy: 0.730\n",
            "Epoch: 54 \tTraining Loss: 0.710925 \tValidation Loss: 0.944737 Test Accuracy: 0.673\n",
            "Epoch: 55 \tTraining Loss: 0.710746 \tValidation Loss: 0.820638 Test Accuracy: 0.725\n",
            "Epoch: 56 \tTraining Loss: 0.700945 \tValidation Loss: 0.755957 Test Accuracy: 0.741\n",
            "Epoch: 57 \tTraining Loss: 0.701534 \tValidation Loss: 0.747319 Test Accuracy: 0.750\n",
            "Epoch: 58 \tTraining Loss: 0.693573 \tValidation Loss: 0.889153 Test Accuracy: 0.687\n",
            "Epoch: 59 \tTraining Loss: 0.698904 \tValidation Loss: 0.871645 Test Accuracy: 0.717\n",
            "Epoch: 60 \tTraining Loss: 0.675336 \tValidation Loss: 0.739324 Test Accuracy: 0.736\n",
            "Epoch: 61 \tTraining Loss: 0.672814 \tValidation Loss: 0.865384 Test Accuracy: 0.704\n",
            "Epoch: 62 \tTraining Loss: 0.679479 \tValidation Loss: 0.747328 Test Accuracy: 0.760\n",
            "Epoch: 63 \tTraining Loss: 0.684788 \tValidation Loss: 0.850362 Test Accuracy: 0.727\n",
            "Epoch: 64 \tTraining Loss: 0.656298 \tValidation Loss: 0.792273 Test Accuracy: 0.732\n",
            "Epoch: 65 \tTraining Loss: 0.676663 \tValidation Loss: 0.847555 Test Accuracy: 0.729\n",
            "Epoch: 66 \tTraining Loss: 0.671814 \tValidation Loss: 1.382050 Test Accuracy: 0.596\n",
            "Epoch: 67 \tTraining Loss: 0.661413 \tValidation Loss: 0.729986 Test Accuracy: 0.740\n",
            "Epoch: 68 \tTraining Loss: 0.628405 \tValidation Loss: 0.757937 Test Accuracy: 0.713\n",
            "Epoch: 69 \tTraining Loss: 0.652375 \tValidation Loss: 0.779105 Test Accuracy: 0.733\n",
            "Epoch: 70 \tTraining Loss: 0.635839 \tValidation Loss: 0.743837 Test Accuracy: 0.745\n",
            "Epoch: 71 \tTraining Loss: 0.669107 \tValidation Loss: 0.724606 Test Accuracy: 0.744\n",
            "Epoch: 72 \tTraining Loss: 0.648656 \tValidation Loss: 0.714185 Test Accuracy: 0.764\n",
            "Saving model..17\n",
            "Epoch: 73 \tTraining Loss: 0.636588 \tValidation Loss: 0.868630 Test Accuracy: 0.710\n",
            "Epoch: 74 \tTraining Loss: 0.637624 \tValidation Loss: 0.802726 Test Accuracy: 0.722\n",
            "Epoch: 75 \tTraining Loss: 0.632420 \tValidation Loss: 1.016122 Test Accuracy: 0.696\n",
            "Epoch: 76 \tTraining Loss: 0.645561 \tValidation Loss: 0.782080 Test Accuracy: 0.727\n",
            "Epoch: 77 \tTraining Loss: 0.665454 \tValidation Loss: 0.789677 Test Accuracy: 0.725\n",
            "Epoch: 78 \tTraining Loss: 0.641523 \tValidation Loss: 0.726243 Test Accuracy: 0.738\n",
            "Epoch: 79 \tTraining Loss: 0.639871 \tValidation Loss: 0.771295 Test Accuracy: 0.743\n",
            "Epoch: 80 \tTraining Loss: 0.619326 \tValidation Loss: 0.766257 Test Accuracy: 0.740\n",
            "Epoch: 81 \tTraining Loss: 0.619448 \tValidation Loss: 0.762789 Test Accuracy: 0.747\n",
            "Epoch: 82 \tTraining Loss: 0.609065 \tValidation Loss: 0.778913 Test Accuracy: 0.762\n",
            "Epoch: 83 \tTraining Loss: 0.629294 \tValidation Loss: 0.926041 Test Accuracy: 0.710\n",
            "Epoch: 84 \tTraining Loss: 0.654954 \tValidation Loss: 0.753729 Test Accuracy: 0.742\n",
            "Epoch: 85 \tTraining Loss: 0.621657 \tValidation Loss: 0.948386 Test Accuracy: 0.701\n",
            "Epoch: 86 \tTraining Loss: 0.620390 \tValidation Loss: 0.969024 Test Accuracy: 0.675\n",
            "Epoch: 87 \tTraining Loss: 0.617140 \tValidation Loss: 0.788701 Test Accuracy: 0.733\n",
            "Epoch: 88 \tTraining Loss: 0.596187 \tValidation Loss: 0.863981 Test Accuracy: 0.733\n",
            "Epoch: 89 \tTraining Loss: 0.588197 \tValidation Loss: 0.807737 Test Accuracy: 0.752\n",
            "Epoch: 90 \tTraining Loss: 0.624482 \tValidation Loss: 0.757765 Test Accuracy: 0.768\n",
            "Epoch: 91 \tTraining Loss: 0.613532 \tValidation Loss: 0.769076 Test Accuracy: 0.758\n",
            "Epoch: 92 \tTraining Loss: 0.584098 \tValidation Loss: 0.747905 Test Accuracy: 0.746\n",
            "Epoch: 93 \tTraining Loss: 0.586066 \tValidation Loss: 0.687128 Test Accuracy: 0.765\n",
            "Saving model..18\n",
            "Epoch: 94 \tTraining Loss: 0.596120 \tValidation Loss: 0.826100 Test Accuracy: 0.726\n",
            "Epoch: 95 \tTraining Loss: 0.609607 \tValidation Loss: 0.721108 Test Accuracy: 0.747\n",
            "Epoch: 96 \tTraining Loss: 0.634351 \tValidation Loss: 0.746865 Test Accuracy: 0.748\n",
            "Epoch: 97 \tTraining Loss: 0.597617 \tValidation Loss: 0.748788 Test Accuracy: 0.771\n",
            "Epoch: 98 \tTraining Loss: 0.582469 \tValidation Loss: 0.707877 Test Accuracy: 0.766\n",
            "Epoch: 99 \tTraining Loss: 0.591986 \tValidation Loss: 0.746960 Test Accuracy: 0.740\n",
            "Epoch: 100 \tTraining Loss: 0.600733 \tValidation Loss: 0.830146 Test Accuracy: 0.738\n"
          ],
          "name": "stdout"
        }
      ]
    },
    {
      "cell_type": "markdown",
      "metadata": {
        "id": "iEF6Xr44qtf3"
      },
      "source": [
        "### Tests and Plots "
      ]
    },
    {
      "cell_type": "code",
      "metadata": {
        "colab": {
          "base_uri": "https://localhost:8080/",
          "height": 295
        },
        "id": "OJME3KDGqrQW",
        "outputId": "15b58024-be73-4708-d45e-bde9a1439a95"
      },
      "source": [
        "plot(train_losses,val_losses,'Training Validation Loss with CNN-block1')"
      ],
      "execution_count": 73,
      "outputs": [
        {
          "output_type": "display_data",
          "data": {
            "image/png": "[encoded data removed]",
            "text/plain": [
              "<Figure size 432x288 with 1 Axes>"
            ]
          },
          "metadata": {
            "tags": [],
            "needs_background": "light"
          }
        }
      ]
    },
    {
      "cell_type": "code",
      "metadata": {
        "id": "aGueEimwr6hw"
      },
      "source": [
        "all_models3 = load(save_path3 + \"cnn_b123_x2_y3_z1_with_BN_avg_pool_dp_without_WD_0.001_with_aug_epoch_100_Best_all_models.pkl\")\n",
        "FILE  = all_models3[-1]\n",
        "m3 = Model_B123(make_layers3(cfg3['B123'])).to(device) "
      ],
      "execution_count": 74,
      "outputs": []
    },
    {
      "cell_type": "code",
      "metadata": {
        "id": "Lp0nDcyjr6pW"
      },
      "source": [
        "m3 = load_best(all_models3,m3)"
      ],
      "execution_count": 75,
      "outputs": []
    },
    {
      "cell_type": "code",
      "metadata": {
        "colab": {
          "base_uri": "https://localhost:8080/"
        },
        "id": "Hht6dGo_r6w4",
        "outputId": "4eec9a34-f0dd-433a-b65e-9eebae9736b4"
      },
      "source": [
        "train_y, train_y_hat = test(train_dataloader, m3, criterion3, device, \"TRAIN\")"
      ],
      "execution_count": 76,
      "outputs": [
        {
          "output_type": "stream",
          "text": [
            "TRAIN Loss: 0.420687\n",
            "\n",
            "TRAIN Accuracy: 84% (3811/4500)\n"
          ],
          "name": "stdout"
        }
      ]
    },
    {
      "cell_type": "code",
      "metadata": {
        "colab": {
          "base_uri": "https://localhost:8080/",
          "height": 441
        },
        "id": "JOH7tQRUr64k",
        "outputId": "7be8a5d9-bda0-4ee9-ed6a-f2f1f1146880"
      },
      "source": [
        "cm = MetricTools.confusion_matrix(train_y, train_y_hat, nclasses=10)\n",
        "PlotTools.confusion_matrix(cm, [i for i in range(10)], title='',\n",
        "                           filename='Confusion Matrix with CNN', figsize=(6,6))"
      ],
      "execution_count": 77,
      "outputs": [
        {
          "output_type": "display_data",
          "data": {
            "image/png": "[encoded data removed]",
            "text/plain": [
              "<Figure size 432x432 with 2 Axes>"
            ]
          },
          "metadata": {
            "tags": [],
            "needs_background": "light"
          }
        }
      ]
    },
    {
      "cell_type": "code",
      "metadata": {
        "colab": {
          "base_uri": "https://localhost:8080/"
        },
        "id": "cZcUExXEsGA5",
        "outputId": "74583054-0834-4e2c-981d-1abbd554843a"
      },
      "source": [
        "test_y, test_y_hat = test(test_dataloader, m3, criterion3, device,\"TEST\")"
      ],
      "execution_count": 78,
      "outputs": [
        {
          "output_type": "stream",
          "text": [
            "TEST Loss: 0.682963\n",
            "\n",
            "TEST Accuracy: 76% (382/500)\n"
          ],
          "name": "stdout"
        }
      ]
    },
    {
      "cell_type": "code",
      "metadata": {
        "colab": {
          "base_uri": "https://localhost:8080/",
          "height": 441
        },
        "id": "iU7y_iHHsGLO",
        "outputId": "393b890b-f1a6-4dfd-f220-5232c2a8e100"
      },
      "source": [
        "cm = MetricTools.confusion_matrix(test_y, test_y_hat, nclasses=10)\n",
        "PlotTools.confusion_matrix(cm, [i for i in range(10)], title='',\n",
        "                           filename='Confusion Matrix with CNN', figsize=(6,6))"
      ],
      "execution_count": 79,
      "outputs": [
        {
          "output_type": "display_data",
          "data": {
            "image/png": "[encoded data removed]",
            "text/plain": [
              "<Figure size 432x432 with 2 Axes>"
            ]
          },
          "metadata": {
            "tags": [],
            "needs_background": "light"
          }
        }
      ]
    },
    {
      "cell_type": "code",
      "metadata": {
        "id": "RnwVS0znxbHa"
      },
      "source": [
        ""
      ],
      "execution_count": 65,
      "outputs": []
    }
  ]
}